{
 "cells": [
  {
   "cell_type": "code",
   "execution_count": 1,
   "id": "faac3e0d",
   "metadata": {},
   "outputs": [],
   "source": [
    "import numpy as np\n",
    "import os\n",
    "from scipy.io import mmread\n",
    "import networkx as nx"
   ]
  },
  {
   "cell_type": "code",
   "execution_count": 2,
   "id": "172fa6fd",
   "metadata": {},
   "outputs": [
    {
     "name": "stdout",
     "output_type": "stream",
     "text": [
      "Karate club network loaded successfully!\n",
      "Dolphin network loaded successfully!\n",
      "Jazz musician network loaded successfully!\n"
     ]
    }
   ],
   "source": [
    "# LOAD DATASETS\n",
    "cwd = os.getcwd()\n",
    "\n",
    "# KARATE CLUB NETWORK\n",
    "file_path_karate = os.path.join(cwd, 'dataset\\\\karate club\\\\karate.mtx')\n",
    "karate_network = mmread(file_path_karate).toarray()\n",
    "print(\"Karate club network loaded successfully!\")\n",
    "\n",
    "# DOLPHIN NETWORK\n",
    "file_path_dolphin = os.path.join(cwd, 'dataset\\\\soc-dolphins\\\\soc-dolphins.mtx')\n",
    "dolphin_network = mmread(file_path_dolphin).toarray()\n",
    "print(\"Dolphin network loaded successfully!\")\n",
    "\n",
    "# JAZZ MUSICIAN NETWORK\n",
    "file_path_jazz = os.path.join(cwd, 'dataset\\\\jazz\\\\jazz.mtx')\n",
    "jazz_network = mmread(file_path_jazz).toarray()\n",
    "print(\"Jazz musician network loaded successfully!\")"
   ]
  },
  {
   "cell_type": "code",
   "execution_count": 3,
   "id": "1b7e8aba",
   "metadata": {},
   "outputs": [],
   "source": [
    "# CONVERT TO NETWORKX GRAPH\n",
    "karate_net = nx.from_numpy_array(karate_network)\n",
    "dolphin_net = nx.from_numpy_array(dolphin_network)\n",
    "jazz_net = nx.from_numpy_array(jazz_network)"
   ]
  },
  {
   "cell_type": "code",
   "execution_count": 4,
   "id": "bfbc8f1d",
   "metadata": {},
   "outputs": [
    {
     "name": "stdout",
     "output_type": "stream",
     "text": [
      "Number of nodes-\n",
      "Karate Club Network: 34\n",
      "Dolphin Network: 62\n",
      "Jazz Musicians' Network: 198\n"
     ]
    }
   ],
   "source": [
    "# GET NUMBER OF NODES OF GRAPHS\n",
    "print(\"Number of nodes-\")\n",
    "print(\"Karate Club Network:\", nx.number_of_nodes(karate_net))\n",
    "print(\"Dolphin Network:\", nx.number_of_nodes(dolphin_net))\n",
    "print(\"Jazz Musicians' Network:\", nx.number_of_nodes(jazz_net))"
   ]
  },
  {
   "cell_type": "code",
   "execution_count": 5,
   "id": "9693b42e",
   "metadata": {},
   "outputs": [
    {
     "name": "stdout",
     "output_type": "stream",
     "text": [
      "Number of edges-\n",
      "Karate Club Network: 78\n",
      "Dolphin Network: 159\n",
      "Jazz Musicians' Network: 2742\n"
     ]
    }
   ],
   "source": [
    "# GET NUMBER OF EDGES OF GRAPHS\n",
    "print(\"Number of edges-\")\n",
    "print(\"Karate Club Network:\", nx.number_of_edges(karate_net))\n",
    "print(\"Dolphin Network:\", nx.number_of_edges(dolphin_net))\n",
    "print(\"Jazz Musicians' Network:\", nx.number_of_edges(jazz_net))"
   ]
  },
  {
   "cell_type": "code",
   "execution_count": 6,
   "id": "4b7cdf53",
   "metadata": {},
   "outputs": [
    {
     "name": "stdout",
     "output_type": "stream",
     "text": [
      "Average shortest path lengths-\n",
      "Karate Club Network: 2.41\n",
      "Dolphin Network: 3.36\n",
      "Jazz Musicians' Network: 2.24\n"
     ]
    }
   ],
   "source": [
    "# GET AVERAGE SHORTEST PATH LENGTHS\n",
    "print(\"Average shortest path lengths-\")\n",
    "print(\"Karate Club Network:\", round(nx.average_shortest_path_length(karate_net), 2))\n",
    "print(\"Dolphin Network:\", round(nx.average_shortest_path_length(dolphin_net), 2))\n",
    "print(\"Jazz Musicians' Network:\", round(nx.average_shortest_path_length(jazz_net), 2))"
   ]
  },
  {
   "cell_type": "code",
   "execution_count": 7,
   "id": "fb28597d",
   "metadata": {},
   "outputs": [
    {
     "name": "stdout",
     "output_type": "stream",
     "text": [
      "Average clustering coefficient-\n",
      "Karate Club Network: 0.57\n",
      "Dolphin Network: 0.26\n",
      "Jazz Musicians' Network: 0.62\n"
     ]
    }
   ],
   "source": [
    "# AVERAGE CLUSTERING COEFFICIENT\n",
    "print(\"Average clustering coefficient-\")\n",
    "print(\"Karate Club Network:\", round(nx.average_clustering(karate_net), 2))\n",
    "print(\"Dolphin Network:\", round(nx.average_clustering(dolphin_net), 2))\n",
    "print(\"Jazz Musicians' Network:\", round(nx.average_clustering(jazz_net), 2))"
   ]
  },
  {
   "cell_type": "code",
   "execution_count": 8,
   "id": "36d7d201",
   "metadata": {},
   "outputs": [
    {
     "name": "stdout",
     "output_type": "stream",
     "text": [
      "Number of clusters in graphs-\n",
      "Karate Club Network: 2\n",
      "Dolphin Network: 2\n",
      "Jazz Musicians' Network: 2\n"
     ]
    }
   ],
   "source": [
    "# CLUSTERS USING GIRVAN NEUMAN METHOD\n",
    "from networkx.algorithms.community import girvan_newman\n",
    "\n",
    "gn_cluster_karate = list(sorted(cluster) for cluster in next(girvan_newman(karate_net)))\n",
    "gn_cluster_dolphin = list(sorted(cluster) for cluster in next(girvan_newman(dolphin_net)))\n",
    "gn_cluster_jazz = list(sorted(cluster) for cluster in next(girvan_newman(jazz_net)))\n",
    "\n",
    "print(\"Number of clusters in graphs-\")\n",
    "print(\"Karate Club Network:\", len(gn_cluster_karate))\n",
    "print(\"Dolphin Network:\", len(gn_cluster_dolphin))\n",
    "print(\"Jazz Musicians' Network:\", len(gn_cluster_jazz))"
   ]
  },
  {
   "cell_type": "code",
   "execution_count": 9,
   "id": "46bd9cf5",
   "metadata": {},
   "outputs": [
    {
     "name": "stdout",
     "output_type": "stream",
     "text": [
      "Number of clusters in graphs-\n",
      "Karate Club Network: 3\n",
      "Dolphin Network: 4\n",
      "Jazz Musicians' Network: 4\n"
     ]
    }
   ],
   "source": [
    "# CLUSTERS USING MODULARITY BASED METHOD\n",
    "from networkx.algorithms.community import greedy_modularity_communities\n",
    "\n",
    "mb_cluster_karate = greedy_modularity_communities(karate_net)\n",
    "mb_cluster_dolphin = greedy_modularity_communities(dolphin_net)\n",
    "mb_cluster_jazz = greedy_modularity_communities(jazz_net)\n",
    "\n",
    "print(\"Number of clusters in graphs-\")\n",
    "print(\"Karate Club Network:\", len(mb_cluster_karate))\n",
    "print(\"Dolphin Network:\", len(mb_cluster_dolphin))\n",
    "print(\"Jazz Musicians' Network:\", len(mb_cluster_jazz))"
   ]
  },
  {
   "cell_type": "code",
   "execution_count": 10,
   "id": "e6fe889c",
   "metadata": {},
   "outputs": [
    {
     "name": "stdout",
     "output_type": "stream",
     "text": [
      "Spectral clustering (Cluster sizes)-\n",
      "Karate Club Network: 15 19\n",
      "Dolphins Network: 41 21\n",
      "Jazz Musicians' Network: 59 139\n"
     ]
    }
   ],
   "source": [
    "# SPECTRAL CLUSTERING USING THE GRAPH LAPLACIAN\n",
    "from sklearn.cluster import SpectralClustering\n",
    "\n",
    "print(\"Spectral clustering (Cluster sizes)-\")\n",
    "\n",
    "# KARATE CLUB\n",
    "sc_karate = SpectralClustering(n_clusters=2, affinity='precomputed', random_state=42).fit(karate_network)\n",
    "sc_clusters_map_karate = {}\n",
    "for i in range(len(sc_karate.labels_)):\n",
    "    sc_clusters_map_karate[i] = sc_karate.labels_[i]\n",
    "    \n",
    "cluster_0 = []\n",
    "cluster_1 = []\n",
    "for key, val in sc_clusters_map_karate.items():\n",
    "    if val == 0:\n",
    "        cluster_0.append(key)\n",
    "    else:\n",
    "        cluster_1.append(key)\n",
    "        \n",
    "sc_clusters_karate = [cluster_0, cluster_1]\n",
    "print(\"Karate Club Network:\", len(sc_clusters_karate[0]), len(sc_clusters_karate[1]))\n",
    "\n",
    "\n",
    "# DOLPHIN\n",
    "sc_dolphin = SpectralClustering(n_clusters=2, affinity='precomputed', random_state=42).fit(dolphin_network)\n",
    "sc_clusters_map_dolphin = {}\n",
    "for i in range(len(sc_dolphin.labels_)):\n",
    "    sc_clusters_map_dolphin[i] = sc_dolphin.labels_[i]\n",
    "    \n",
    "cluster_0 = []\n",
    "cluster_1 = []\n",
    "for key, val in sc_clusters_map_dolphin.items():\n",
    "    if val == 0:\n",
    "        cluster_0.append(key)\n",
    "    else:\n",
    "        cluster_1.append(key)\n",
    "        \n",
    "sc_clusters_dolphin = [cluster_0, cluster_1]\n",
    "print(\"Dolphins Network:\", len(sc_clusters_dolphin[0]), len(sc_clusters_dolphin[1]))\n",
    "\n",
    "\n",
    "# JAZZ MUSICIANS'\n",
    "sc_jazz = SpectralClustering(n_clusters=2, affinity='precomputed', random_state=42).fit(jazz_network)\n",
    "sc_clusters_map_jazz = {}\n",
    "for i in range(len(sc_jazz.labels_)):\n",
    "    sc_clusters_map_jazz[i] = sc_jazz.labels_[i]\n",
    "    \n",
    "cluster_0 = []\n",
    "cluster_1 = []\n",
    "for key, val in sc_clusters_map_jazz.items():\n",
    "    if val == 0:\n",
    "        cluster_0.append(key)\n",
    "    else:\n",
    "        cluster_1.append(key)\n",
    "        \n",
    "sc_clusters_jazz = [cluster_0, cluster_1]\n",
    "print(\"Jazz Musicians' Network:\", len(sc_clusters_jazz[0]), len(sc_clusters_jazz[1]))"
   ]
  },
  {
   "cell_type": "code",
   "execution_count": null,
   "id": "38a338c3",
   "metadata": {},
   "outputs": [],
   "source": []
  }
 ],
 "metadata": {
  "kernelspec": {
   "display_name": "Python 3 (ipykernel)",
   "language": "python",
   "name": "python3"
  },
  "language_info": {
   "codemirror_mode": {
    "name": "ipython",
    "version": 3
   },
   "file_extension": ".py",
   "mimetype": "text/x-python",
   "name": "python",
   "nbconvert_exporter": "python",
   "pygments_lexer": "ipython3",
   "version": "3.8.2"
  }
 },
 "nbformat": 4,
 "nbformat_minor": 5
}
