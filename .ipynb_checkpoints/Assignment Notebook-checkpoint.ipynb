{
 "cells": [
  {
   "cell_type": "code",
   "execution_count": 65,
   "id": "faac3e0d",
   "metadata": {},
   "outputs": [],
   "source": [
    "import numpy as np\n",
    "import os\n",
    "from scipy.io import mmread\n",
    "import networkx as nx"
   ]
  },
  {
   "cell_type": "markdown",
   "id": "2f252d1f",
   "metadata": {},
   "source": [
    "### Answer 1"
   ]
  },
  {
   "cell_type": "code",
   "execution_count": 66,
   "id": "172fa6fd",
   "metadata": {},
   "outputs": [
    {
     "name": "stdout",
     "output_type": "stream",
     "text": [
      "Karate club network loaded successfully!\n",
      "Dolphin network loaded successfully!\n",
      "Jazz musician network loaded successfully!\n"
     ]
    }
   ],
   "source": [
    "# LOAD DATASETS\n",
    "cwd = os.getcwd()\n",
    "\n",
    "# KARATE CLUB NETWORK\n",
    "file_path_karate = os.path.join(cwd, 'dataset\\\\karate club\\\\karate.mtx')\n",
    "karate_network = mmread(file_path_karate).toarray()\n",
    "print(\"Karate club network loaded successfully!\")\n",
    "\n",
    "# DOLPHIN NETWORK\n",
    "file_path_dolphin = os.path.join(cwd, 'dataset\\\\soc-dolphins\\\\soc-dolphins.mtx')\n",
    "dolphin_network = mmread(file_path_dolphin).toarray()\n",
    "print(\"Dolphin network loaded successfully!\")\n",
    "\n",
    "# JAZZ MUSICIAN NETWORK\n",
    "file_path_jazz = os.path.join(cwd, 'dataset\\\\jazz\\\\jazz.mtx')\n",
    "jazz_network = mmread(file_path_jazz).toarray()\n",
    "print(\"Jazz musician network loaded successfully!\")"
   ]
  },
  {
   "cell_type": "code",
   "execution_count": 67,
   "id": "1b7e8aba",
   "metadata": {},
   "outputs": [],
   "source": [
    "# CONVERT TO NETWORKX GRAPH\n",
    "karate_net = nx.from_numpy_array(karate_network)\n",
    "dolphin_net = nx.from_numpy_array(dolphin_network)\n",
    "jazz_net = nx.from_numpy_array(jazz_network)"
   ]
  },
  {
   "cell_type": "markdown",
   "id": "4aa09779",
   "metadata": {},
   "source": [
    "### Answer 2"
   ]
  },
  {
   "cell_type": "code",
   "execution_count": 68,
   "id": "bfbc8f1d",
   "metadata": {},
   "outputs": [
    {
     "name": "stdout",
     "output_type": "stream",
     "text": [
      "Number of nodes-\n",
      "Karate Club Network: 34\n",
      "Dolphin Network: 62\n",
      "Jazz Musicians' Network: 198\n"
     ]
    }
   ],
   "source": [
    "# GET NUMBER OF NODES OF GRAPHS\n",
    "print(\"Number of nodes-\")\n",
    "print(\"Karate Club Network:\", nx.number_of_nodes(karate_net))\n",
    "print(\"Dolphin Network:\", nx.number_of_nodes(dolphin_net))\n",
    "print(\"Jazz Musicians' Network:\", nx.number_of_nodes(jazz_net))"
   ]
  },
  {
   "cell_type": "code",
   "execution_count": 69,
   "id": "9693b42e",
   "metadata": {},
   "outputs": [
    {
     "name": "stdout",
     "output_type": "stream",
     "text": [
      "Number of edges-\n",
      "Karate Club Network: 78\n",
      "Dolphin Network: 159\n",
      "Jazz Musicians' Network: 2742\n"
     ]
    }
   ],
   "source": [
    "# GET NUMBER OF EDGES OF GRAPHS\n",
    "print(\"Number of edges-\")\n",
    "print(\"Karate Club Network:\", nx.number_of_edges(karate_net))\n",
    "print(\"Dolphin Network:\", nx.number_of_edges(dolphin_net))\n",
    "print(\"Jazz Musicians' Network:\", nx.number_of_edges(jazz_net))"
   ]
  },
  {
   "cell_type": "code",
   "execution_count": 70,
   "id": "4b7cdf53",
   "metadata": {},
   "outputs": [
    {
     "name": "stdout",
     "output_type": "stream",
     "text": [
      "Average shortest path lengths-\n",
      "Karate Club Network: 2.41\n",
      "Dolphin Network: 3.36\n",
      "Jazz Musicians' Network: 2.24\n"
     ]
    }
   ],
   "source": [
    "# GET AVERAGE SHORTEST PATH LENGTHS\n",
    "print(\"Average shortest path lengths-\")\n",
    "print(\"Karate Club Network:\", round(nx.average_shortest_path_length(karate_net), 2))\n",
    "print(\"Dolphin Network:\", round(nx.average_shortest_path_length(dolphin_net), 2))\n",
    "print(\"Jazz Musicians' Network:\", round(nx.average_shortest_path_length(jazz_net), 2))"
   ]
  },
  {
   "cell_type": "code",
   "execution_count": 71,
   "id": "fb28597d",
   "metadata": {},
   "outputs": [
    {
     "name": "stdout",
     "output_type": "stream",
     "text": [
      "Average clustering coefficient-\n",
      "Karate Club Network: 0.57\n",
      "Dolphin Network: 0.26\n",
      "Jazz Musicians' Network: 0.62\n"
     ]
    }
   ],
   "source": [
    "# AVERAGE CLUSTERING COEFFICIENT\n",
    "print(\"Average clustering coefficient-\")\n",
    "print(\"Karate Club Network:\", round(nx.average_clustering(karate_net), 2))\n",
    "print(\"Dolphin Network:\", round(nx.average_clustering(dolphin_net), 2))\n",
    "print(\"Jazz Musicians' Network:\", round(nx.average_clustering(jazz_net), 2))"
   ]
  },
  {
   "cell_type": "markdown",
   "id": "466bb0af",
   "metadata": {},
   "source": [
    "### Answer 3"
   ]
  },
  {
   "cell_type": "code",
   "execution_count": 72,
   "id": "6b35f041",
   "metadata": {},
   "outputs": [],
   "source": [
    "def print_cluster_sizes(clusters):\n",
    "    cluster_sizes = []\n",
    "    for cluster in clusters:\n",
    "        cluster_sizes.append(len(cluster))\n",
    "    \n",
    "    return cluster_sizes"
   ]
  },
  {
   "cell_type": "code",
   "execution_count": 73,
   "id": "36d7d201",
   "metadata": {},
   "outputs": [
    {
     "name": "stdout",
     "output_type": "stream",
     "text": [
      "Number of clusters in graphs-\n",
      "Karate Club Network: 2\n",
      "Dolphin Network: 2\n",
      "Jazz Musicians' Network: 2\n",
      "\n",
      "Cluster sizes-\n",
      "Karate Club Network: [15, 19]\n",
      "Dolphin Network: [41, 21]\n",
      "Jazz Musicians' Network: [194, 4]\n"
     ]
    }
   ],
   "source": [
    "# CLUSTERS USING GIRVAN NEUMAN METHOD\n",
    "from networkx.algorithms.community import girvan_newman\n",
    "\n",
    "gn_cluster_karate = list(sorted(cluster) for cluster in next(girvan_newman(karate_net)))\n",
    "gn_cluster_dolphin = list(sorted(cluster) for cluster in next(girvan_newman(dolphin_net)))\n",
    "gn_cluster_jazz = list(sorted(cluster) for cluster in next(girvan_newman(jazz_net)))\n",
    "\n",
    "print(\"Number of clusters in graphs-\")\n",
    "print(\"Karate Club Network:\", len(gn_cluster_karate))\n",
    "print(\"Dolphin Network:\", len(gn_cluster_dolphin))\n",
    "print(\"Jazz Musicians' Network:\", len(gn_cluster_jazz))\n",
    "\n",
    "print(\"\\nCluster sizes-\")\n",
    "print(\"Karate Club Network:\", print_cluster_sizes(gn_cluster_karate))\n",
    "print(\"Dolphin Network:\", print_cluster_sizes(gn_cluster_dolphin))\n",
    "print(\"Jazz Musicians' Network:\", print_cluster_sizes(gn_cluster_jazz))"
   ]
  },
  {
   "cell_type": "code",
   "execution_count": 74,
   "id": "46bd9cf5",
   "metadata": {},
   "outputs": [
    {
     "name": "stdout",
     "output_type": "stream",
     "text": [
      "Number of clusters in graphs-\n",
      "Karate Club Network: 3\n",
      "Dolphin Network: 4\n",
      "Jazz Musicians' Network: 4\n",
      "\n",
      "Cluster sizes-\n",
      "Karate Club Network: [17, 9, 8]\n",
      "Dolphin Network: [23, 22, 15, 2]\n",
      "Jazz Musicians' Network: [67, 66, 62, 3]\n"
     ]
    }
   ],
   "source": [
    "# CLUSTERS USING MODULARITY BASED METHOD\n",
    "from networkx.algorithms.community import greedy_modularity_communities\n",
    "\n",
    "mb_cluster_karate = greedy_modularity_communities(karate_net)\n",
    "mb_cluster_dolphin = greedy_modularity_communities(dolphin_net)\n",
    "mb_cluster_jazz = greedy_modularity_communities(jazz_net)\n",
    "\n",
    "print(\"Number of clusters in graphs-\")\n",
    "print(\"Karate Club Network:\", len(mb_cluster_karate))\n",
    "print(\"Dolphin Network:\", len(mb_cluster_dolphin))\n",
    "print(\"Jazz Musicians' Network:\", len(mb_cluster_jazz))\n",
    "\n",
    "print(\"\\nCluster sizes-\")\n",
    "print(\"Karate Club Network:\", print_cluster_sizes(mb_cluster_karate))\n",
    "print(\"Dolphin Network:\", print_cluster_sizes(mb_cluster_dolphin))\n",
    "print(\"Jazz Musicians' Network:\", print_cluster_sizes(mb_cluster_jazz))"
   ]
  },
  {
   "cell_type": "code",
   "execution_count": 75,
   "id": "e6fe889c",
   "metadata": {},
   "outputs": [
    {
     "name": "stdout",
     "output_type": "stream",
     "text": [
      "Spectral clustering (Cluster sizes)-\n",
      "Karate Club Network: [15, 19]\n",
      "Dolphins Network: [41, 21]\n",
      "Jazz Musicians' Network: [59, 139]\n"
     ]
    }
   ],
   "source": [
    "# SPECTRAL CLUSTERING USING THE GRAPH LAPLACIAN\n",
    "from sklearn.cluster import SpectralClustering\n",
    "\n",
    "print(\"Spectral clustering (Cluster sizes)-\")\n",
    "\n",
    "# KARATE CLUB\n",
    "sc_karate = SpectralClustering(n_clusters=2, affinity='precomputed', random_state=42).fit(karate_network)\n",
    "sc_clusters_map_karate = {}\n",
    "for i in range(len(sc_karate.labels_)):\n",
    "    sc_clusters_map_karate[i] = sc_karate.labels_[i]\n",
    "    \n",
    "cluster_0 = []\n",
    "cluster_1 = []\n",
    "for key, val in sc_clusters_map_karate.items():\n",
    "    if val == 0:\n",
    "        cluster_0.append(key)\n",
    "    else:\n",
    "        cluster_1.append(key)   \n",
    "sc_clusters_karate = [cluster_0, cluster_1]\n",
    "\n",
    "# DOLPHIN\n",
    "sc_dolphin = SpectralClustering(n_clusters=2, affinity='precomputed', random_state=42).fit(dolphin_network)\n",
    "sc_clusters_map_dolphin = {}\n",
    "for i in range(len(sc_dolphin.labels_)):\n",
    "    sc_clusters_map_dolphin[i] = sc_dolphin.labels_[i]\n",
    "    \n",
    "cluster_0 = []\n",
    "cluster_1 = []\n",
    "for key, val in sc_clusters_map_dolphin.items():\n",
    "    if val == 0:\n",
    "        cluster_0.append(key)\n",
    "    else:\n",
    "        cluster_1.append(key)    \n",
    "sc_clusters_dolphin = [cluster_0, cluster_1]\n",
    "\n",
    "# JAZZ MUSICIANS'\n",
    "sc_jazz = SpectralClustering(n_clusters=2, affinity='precomputed', random_state=42).fit(jazz_network)\n",
    "sc_clusters_map_jazz = {}\n",
    "for i in range(len(sc_jazz.labels_)):\n",
    "    sc_clusters_map_jazz[i] = sc_jazz.labels_[i]\n",
    "    \n",
    "cluster_0 = []\n",
    "cluster_1 = []\n",
    "for key, val in sc_clusters_map_jazz.items():\n",
    "    if val == 0:\n",
    "        cluster_0.append(key)\n",
    "    else:\n",
    "        cluster_1.append(key)    \n",
    "sc_clusters_jazz = [cluster_0, cluster_1]\n",
    "\n",
    "\n",
    "print(\"Karate Club Network:\", print_cluster_sizes(sc_clusters_karate))\n",
    "print(\"Dolphins Network:\", print_cluster_sizes(sc_clusters_dolphin))\n",
    "print(\"Jazz Musicians' Network:\", print_cluster_sizes(sc_clusters_jazz))"
   ]
  },
  {
   "cell_type": "markdown",
   "id": "6370e4f9",
   "metadata": {},
   "source": [
    "### Answer 4"
   ]
  },
  {
   "cell_type": "code",
   "execution_count": 76,
   "id": "86a08f89",
   "metadata": {},
   "outputs": [
    {
     "name": "stdout",
     "output_type": "stream",
     "text": [
      "MODULARITY SCORES\n",
      "\n",
      "Karate Club -\n",
      "Girvan Neuman: 0.36\n",
      "Modularity Based: 0.3807\n",
      "Spectral Clustering: 0.36\n",
      "\n",
      "Dolphin Network -\n",
      "Girvan Neuman: 0.3787\n",
      "Modularity Based: 0.4955\n",
      "Spectral Clustering: 0.3787\n",
      "\n",
      "Jazz Musicians' Network -\n",
      "Girvan Neuman: 0.0036\n",
      "Modularity Based: 0.4389\n",
      "Spectral Clustering: 0.282\n"
     ]
    }
   ],
   "source": [
    "# MODULARITY SCORE\n",
    "from networkx.algorithms.community import modularity\n",
    "\n",
    "print(\"Modularity scores\".upper())\n",
    "\n",
    "precision = 4\n",
    "\n",
    "# KARATE CLUB NETWORK\n",
    "print(\"\\nKarate Club -\")\n",
    "ms_gn_karate = modularity(karate_net, communities=gn_cluster_karate)\n",
    "ms_mb_karate = modularity(karate_net, communities=mb_cluster_karate)\n",
    "ms_sc_karate = modularity(karate_net, communities=sc_clusters_karate)\n",
    "\n",
    "print(\"Girvan Neuman:\", round(ms_gn_karate, precision))\n",
    "print(\"Modularity Based:\", round(ms_mb_karate, precision))\n",
    "print(\"Spectral Clustering:\", round(ms_sc_karate, precision))\n",
    "\n",
    "\n",
    "# DOLPHIN NETWORK\n",
    "print(\"\\nDolphin Network -\")\n",
    "ms_gn_dolphin = modularity(dolphin_net, communities=gn_cluster_dolphin)\n",
    "ms_mb_dolphin = modularity(dolphin_net, communities=mb_cluster_dolphin)\n",
    "ms_sc_dolphin = modularity(dolphin_net, communities=sc_clusters_dolphin)\n",
    "\n",
    "print(\"Girvan Neuman:\", round(ms_gn_dolphin, precision))\n",
    "print(\"Modularity Based:\", round(ms_mb_dolphin, precision))\n",
    "print(\"Spectral Clustering:\", round(ms_sc_dolphin, precision))\n",
    "\n",
    "\n",
    "# JAZZ MUSICIANS' NETWORK\n",
    "print(\"\\nJazz Musicians' Network -\")\n",
    "ms_gn_jazz = modularity(jazz_net, communities=gn_cluster_jazz)\n",
    "ms_mb_jazz = modularity(jazz_net, communities=mb_cluster_jazz)\n",
    "ms_sc_jazz = modularity(jazz_net, communities=sc_clusters_jazz)\n",
    "\n",
    "print(\"Girvan Neuman:\", round(ms_gn_jazz, precision))\n",
    "print(\"Modularity Based:\", round(ms_mb_jazz, precision))\n",
    "print(\"Spectral Clustering:\", round(ms_sc_jazz, precision))"
   ]
  },
  {
   "cell_type": "code",
   "execution_count": 77,
   "id": "40e7c92a",
   "metadata": {},
   "outputs": [],
   "source": [
    "import time\n",
    "\n",
    "def calculate_mode_time(function, arguments):\n",
    "    elapsed_time_list = []\n",
    "    for i in range(10):\n",
    "        start = time.time()\n",
    "        function(arguments)\n",
    "        time_required = time.time() - start\n",
    "        elapsed_time_list.append(round(time_required, 6))\n",
    "    \n",
    "    mode = max(set(elapsed_time_list), key = elapsed_time_list.count)\n",
    "    #mode = 0\n",
    "    if int(mode) == 0:\n",
    "        return sum(elapsed_time_list)/len(elapsed_time_list)\n",
    "    \n",
    "    return mode"
   ]
  },
  {
   "cell_type": "code",
   "execution_count": 78,
   "id": "74d2ab9c",
   "metadata": {},
   "outputs": [
    {
     "name": "stdout",
     "output_type": "stream",
     "text": [
      "EXECUTION TIME OF ALGORITHMS (seconds)\n",
      "\n",
      "Karate Club Network -\n",
      "Girvan Neuman: 0.0\n",
      "Modularity Based: 0.0062996\n",
      "Spectral Clustering: 0.0447978\n",
      "\n",
      "Dolphin Network -\n",
      "Girvan Neuman: 0.0\n",
      "Modularity Based: 0.019985999999999997\n",
      "Spectral Clustering: 0.044658\n",
      "\n",
      "Jazz Musicians' Network -\n",
      "Girvan Neuman: 0.0\n",
      "Modularity Based: 0.2786804\n",
      "Spectral Clustering: 0.059787599999999996\n"
     ]
    }
   ],
   "source": [
    "# EXECUTION TIME\n",
    "\n",
    "print(\"EXECUTION TIME OF ALGORITHMS (seconds)\")\n",
    "\n",
    "print(\"\\nKarate Club Network -\")\n",
    "print(\"Girvan Neuman:\", calculate_mode_time(girvan_newman, karate_net))\n",
    "print(\"Modularity Based:\", calculate_mode_time(greedy_modularity_communities, karate_net))\n",
    "print(\"Spectral Clustering:\", \n",
    "      calculate_mode_time(\n",
    "          SpectralClustering(\n",
    "              n_clusters=2, \n",
    "              affinity='precomputed',\n",
    "              random_state=42\n",
    "          ).fit, \n",
    "          karate_network\n",
    "      )\n",
    ")\n",
    "\n",
    "# DOLPHIN NETWORK\n",
    "print(\"\\nDolphin Network -\")\n",
    "print(\"Girvan Neuman:\", calculate_mode_time(girvan_newman, dolphin_net))\n",
    "print(\"Modularity Based:\", calculate_mode_time(greedy_modularity_communities, dolphin_net))\n",
    "print(\"Spectral Clustering:\", \n",
    "      calculate_mode_time(\n",
    "          SpectralClustering(\n",
    "              n_clusters=2, \n",
    "              affinity='precomputed',\n",
    "              random_state=42\n",
    "          ).fit, \n",
    "          dolphin_network\n",
    "      )\n",
    ")\n",
    "\n",
    "\n",
    "# JAZZ MUSICIANS' NETWORK\n",
    "print(\"\\nJazz Musicians' Network -\")\n",
    "print(\"Girvan Neuman:\", calculate_mode_time(girvan_newman, jazz_net))\n",
    "print(\"Modularity Based:\", calculate_mode_time(greedy_modularity_communities, jazz_net))\n",
    "print(\"Spectral Clustering:\", \n",
    "      calculate_mode_time(\n",
    "          SpectralClustering(\n",
    "              n_clusters=2, \n",
    "              affinity='precomputed',\n",
    "              random_state=42\n",
    "          ).fit, \n",
    "          jazz_network\n",
    "      )\n",
    ")"
   ]
  },
  {
   "cell_type": "markdown",
   "id": "7ffb258b",
   "metadata": {},
   "source": [
    "### Extras for visualization using Gephi"
   ]
  },
  {
   "cell_type": "code",
   "execution_count": 79,
   "id": "7267c918",
   "metadata": {},
   "outputs": [],
   "source": [
    "# CLUSTER INFO FUNCTION\n",
    "\n",
    "def create_cluster_maps(clusters):\n",
    "    cluster_map = {}\n",
    "    cluster_id = 0\n",
    "    for cluster in clusters:\n",
    "        for node in cluster:\n",
    "            cluster_map[node] = cluster_id\n",
    "        cluster_id += 1\n",
    "        \n",
    "    return cluster_map"
   ]
  },
  {
   "cell_type": "code",
   "execution_count": 80,
   "id": "4951b97b",
   "metadata": {},
   "outputs": [],
   "source": [
    "# CREATE CLUSTER MAPS\n",
    "\n",
    "cluster_map_gn_karate = create_cluster_maps(gn_cluster_karate)\n",
    "cluster_map_gn_dolphin = create_cluster_maps(gn_cluster_dolphin)\n",
    "cluster_map_gn_jazz = create_cluster_maps(gn_cluster_jazz)\n",
    "\n",
    "cluster_map_mb_karate = create_cluster_maps(mb_cluster_karate)\n",
    "cluster_map_mb_dolphin = create_cluster_maps(mb_cluster_dolphin)\n",
    "cluster_map_mb_jazz = create_cluster_maps(mb_cluster_jazz)\n",
    "\n",
    "cluster_map_sc_karate = create_cluster_maps(sc_clusters_karate)\n",
    "cluster_map_sc_dolphin = create_cluster_maps(sc_clusters_dolphin)\n",
    "cluster_map_sc_jazz = create_cluster_maps(sc_clusters_jazz)"
   ]
  },
  {
   "cell_type": "code",
   "execution_count": 81,
   "id": "69967294",
   "metadata": {},
   "outputs": [],
   "source": [
    "import pandas as pd\n",
    "\n",
    "# CLUSTER DATAFRAMES\n",
    "\n",
    "# GIRVAN NEUMAN \n",
    "df_gn_karate = pd.DataFrame(\n",
    "    data={\n",
    "        \"Id\": cluster_map_gn_karate.keys(), \n",
    "        \"Cluster_Id\": cluster_map_gn_karate.values()\n",
    "    }\n",
    ")\n",
    "\n",
    "df_gn_dolphin = pd.DataFrame(\n",
    "    data={\n",
    "        \"Id\": cluster_map_gn_dolphin.keys(), \n",
    "        \"Cluster_Id\": cluster_map_gn_dolphin.values()\n",
    "    }\n",
    ")\n",
    "\n",
    "df_gn_jazz = pd.DataFrame(\n",
    "    data={\n",
    "        \"Id\": cluster_map_gn_jazz.keys(), \n",
    "        \"Cluster_Id\": cluster_map_gn_jazz.values()\n",
    "    }\n",
    ")\n",
    "\n",
    "\n",
    "# MODULARITY BASED\n",
    "df_mb_karate = pd.DataFrame(\n",
    "    data={\n",
    "        \"Id\": cluster_map_mb_karate.keys(), \n",
    "        \"Cluster_Id\": cluster_map_mb_karate.values()\n",
    "    }\n",
    ")\n",
    "\n",
    "df_mb_dolphin = pd.DataFrame(\n",
    "    data={\n",
    "        \"Id\": cluster_map_mb_dolphin.keys(), \n",
    "        \"Cluster_Id\": cluster_map_mb_dolphin.values()\n",
    "    }\n",
    ")\n",
    "\n",
    "df_mb_jazz = pd.DataFrame(\n",
    "    data={\n",
    "        \"Id\": cluster_map_mb_jazz.keys(), \n",
    "        \"Cluster_Id\": cluster_map_mb_jazz.values()\n",
    "    }\n",
    ")\n",
    "\n",
    "\n",
    "# SPECTRAL CLUSTERING\n",
    "df_sc_karate = pd.DataFrame(\n",
    "    data={\n",
    "        \"Id\": cluster_map_sc_karate.keys(), \n",
    "        \"Cluster_Id\": cluster_map_sc_karate.values()\n",
    "    }\n",
    ")\n",
    "\n",
    "df_sc_dolphin = pd.DataFrame(\n",
    "    data={\n",
    "        \"Id\": cluster_map_sc_dolphin.keys(), \n",
    "        \"Cluster_Id\": cluster_map_sc_dolphin.values()\n",
    "    }\n",
    ")\n",
    "\n",
    "df_sc_jazz = pd.DataFrame(\n",
    "    data={\n",
    "        \"Id\": cluster_map_sc_jazz.keys(), \n",
    "        \"Cluster_Id\": cluster_map_sc_jazz.values()\n",
    "    }\n",
    ")"
   ]
  },
  {
   "cell_type": "code",
   "execution_count": 82,
   "id": "57dbfcec",
   "metadata": {},
   "outputs": [],
   "source": [
    "# EXPORT DATAFRAMES TO CSV\n",
    "\n",
    "df_gn_karate.to_csv(\"generated data/cluster_info_gn_karate.csv\", index=False)\n",
    "df_gn_dolphin.to_csv(\"generated data/cluster_info_gn_dolphin.csv\", index=False)\n",
    "df_gn_jazz.to_csv(\"generated data/cluster_info_gn_jazz.csv\", index=False)\n",
    "\n",
    "df_mb_karate.to_csv(\"generated data/cluster_info_mb_karate.csv\", index=False)\n",
    "df_mb_dolphin.to_csv(\"generated data/cluster_info_mb_dolphin.csv\", index=False)\n",
    "df_mb_jazz.to_csv(\"generated data/cluster_info_mb_jazz.csv\", index=False)\n",
    "\n",
    "df_sc_karate.to_csv(\"generated data/cluster_info_sc_karate.csv\", index=False)\n",
    "df_sc_dolphin.to_csv(\"generated data/cluster_info_sc_dolphin.csv\", index=False)\n",
    "df_sc_jazz.to_csv(\"generated data/cluster_info_sc_jazz.csv\", index=False)"
   ]
  },
  {
   "cell_type": "code",
   "execution_count": 83,
   "id": "893a000b",
   "metadata": {},
   "outputs": [],
   "source": [
    "nx.write_gexf(karate_net, \"generated data/karate_network.gexf\")\n",
    "nx.write_gexf(dolphin_net, \"generated data/dolphin_network.gexf\")\n",
    "nx.write_gexf(jazz_net, \"generated data/jazz_network.gexf\")"
   ]
  },
  {
   "cell_type": "code",
   "execution_count": null,
   "id": "51655e43",
   "metadata": {},
   "outputs": [],
   "source": []
  }
 ],
 "metadata": {
  "kernelspec": {
   "display_name": "Python 3 (ipykernel)",
   "language": "python",
   "name": "python3"
  },
  "language_info": {
   "codemirror_mode": {
    "name": "ipython",
    "version": 3
   },
   "file_extension": ".py",
   "mimetype": "text/x-python",
   "name": "python",
   "nbconvert_exporter": "python",
   "pygments_lexer": "ipython3",
   "version": "3.8.2"
  }
 },
 "nbformat": 4,
 "nbformat_minor": 5
}
