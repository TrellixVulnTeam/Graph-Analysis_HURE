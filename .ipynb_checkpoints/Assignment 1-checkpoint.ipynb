{
 "cells": [
  {
   "cell_type": "code",
   "execution_count": 2,
   "id": "bca5f3aa",
   "metadata": {},
   "outputs": [],
   "source": [
    "import numpy as np\n",
    "import os\n",
    "from scipy.io import mmread"
   ]
  },
  {
   "cell_type": "code",
   "execution_count": 45,
   "id": "5cd96b59",
   "metadata": {},
   "outputs": [
    {
     "name": "stdout",
     "output_type": "stream",
     "text": [
      "Karate club network loaded successfully!\n",
      "Dolphin network loaded successfully!\n",
      "Jazz musician network loaded successfully!\n"
     ]
    }
   ],
   "source": [
    "# LOAD DATASETS\n",
    "cwd = os.getcwd()\n",
    "\n",
    "# KARATE CLUB NETWORK\n",
    "file_path_karate = os.path.join(cwd, 'dataset\\\\karate club\\\\karate.mtx')\n",
    "karate_network = mmread(file_path_karate)\n",
    "print(\"Karate club network loaded successfully!\")\n",
    "\n",
    "# DOLPHIN NETWORK\n",
    "file_path_dolphin = os.path.join(cwd, 'dataset\\\\soc-dolphins\\\\soc-dolphins.mtx')\n",
    "dolphin_network = mmread(file_path_dolphin)\n",
    "print(\"Dolphin network loaded successfully!\")\n",
    "\n",
    "# JAZZ MUSICIAN NETWORK\n",
    "file_path_jazz = os.path.join(cwd, 'dataset\\\\jazz\\\\jazz.mtx')\n",
    "jazz_network = mmread(file_path_jazz)\n",
    "print(\"Jazz musician network loaded successfully!\")"
   ]
  },
  {
   "cell_type": "code",
   "execution_count": 48,
   "id": "ae2496dc",
   "metadata": {},
   "outputs": [
    {
     "name": "stdout",
     "output_type": "stream",
     "text": [
      "Number of nodes -\n",
      "Karate Club Network: 34\n",
      "Dolphin Network: 62\n",
      "Jazz Musician Network: 198\n"
     ]
    }
   ],
   "source": [
    "# CALCULATE NUMBER OF NODES\n",
    "print(\"Number of nodes -\")\n",
    "print(\"Karate Club Network:\", karate_network.shape[0])\n",
    "print(\"Dolphin Network:\", dolphin_network.shape[0])\n",
    "print(\"Jazz Musician Network:\", jazz_network.shape[0])"
   ]
  },
  {
   "cell_type": "code",
   "execution_count": 50,
   "id": "0b233690",
   "metadata": {},
   "outputs": [
    {
     "name": "stdout",
     "output_type": "stream",
     "text": [
      "Number of edges -\n",
      "Karate Club Network: 78\n",
      "Dolphin Network: 159\n",
      "Jazz Musician Network: 2742\n"
     ]
    }
   ],
   "source": [
    "# CALCULATE NUMBER OF EDGES\n",
    "num_edges_karate = karate_network.count_nonzero()//2\n",
    "num_edges_dolphin = dolphin_network.count_nonzero()//2\n",
    "num_edges_jazz = jazz_network.count_nonzero()//2\n",
    "\n",
    "print(\"Number of edges -\")\n",
    "print(\"Karate Club Network:\", num_edges_karate)\n",
    "print(\"Dolphin Network:\", num_edges_dolphin)\n",
    "print(\"Jazz Musician Network:\", num_edges_jazz)"
   ]
  },
  {
   "cell_type": "code",
   "execution_count": 74,
   "id": "5978d7d8",
   "metadata": {},
   "outputs": [],
   "source": [
    "# NODE CLASS\n",
    "class Node:\n",
    "    def __init__(self, index, neighbours_list):\n",
    "        self.index = index\n",
    "        self.neighbours_list = neighbours_list\n",
    "        self.degree = len(neighbours_list)\n"
   ]
  },
  {
   "cell_type": "code",
   "execution_count": 75,
   "id": "4487430c",
   "metadata": {},
   "outputs": [
    {
     "name": "stdout",
     "output_type": "stream",
     "text": [
      "Node maps created successfully!\n"
     ]
    }
   ],
   "source": [
    "# CREATE NODE MAPS\n",
    "\n",
    "# KARATE CLUB NETWORK\n",
    "array_karate_network = karate_network.toarray()\n",
    "node_dict_karate = {}\n",
    "for i in range(karate_network.shape[0]):\n",
    "    neighbours_list = []\n",
    "    for j in range(karate_network.shape[1]):\n",
    "        if array_karate_network.item(i, j) != 0:\n",
    "            neighbours_list.append(j + 1)\n",
    "    node = Node(i, neighbours_list)\n",
    "    node_dict_karate[i + 1] = node\n",
    "\n",
    "# DOLPHIN NETWORK\n",
    "array_dolphin_network = dolphin_network.toarray()\n",
    "node_dict_dolphin = {}\n",
    "for i in range(dolphin_network.shape[0]):\n",
    "    neighbours_list = []\n",
    "    for j in range(dolphin_network.shape[1]):\n",
    "        if array_dolphin_network.item(i, j) != 0:\n",
    "            neighbours_list.append(j + 1)\n",
    "    node = Node(i, neighbours_list)\n",
    "    node_dict_dolphin[i + 1] = node\n",
    "    \n",
    "# JAZZ MUSICIAN NETWORK\n",
    "array_jazz_network = jazz_network.toarray()\n",
    "node_dict_jazz = {}\n",
    "for i in range(jazz_network.shape[0]):\n",
    "    neighbours_list = []\n",
    "    for j in range(jazz_network.shape[1]):\n",
    "        if array_jazz_network.item(i, j) != 0:\n",
    "            neighbours_list.append(j + 1)\n",
    "    node = Node(i, neighbours_list)\n",
    "    node_dict_jazz[i + 1] = node\n",
    "\n",
    "    \n",
    "print(\"Node maps created successfully!\")"
   ]
  },
  {
   "cell_type": "code",
   "execution_count": 78,
   "id": "deeef2ab",
   "metadata": {},
   "outputs": [],
   "source": [
    "for node in node_dict_karate.values():\n",
    "    for neighbour in node.neighbours_list:\n",
    "        pass"
   ]
  },
  {
   "cell_type": "code",
   "execution_count": null,
   "id": "3d73f933",
   "metadata": {},
   "outputs": [],
   "source": [
    "# GET DEGREE OF NODES IN GRAPHS\n",
    "node_degrees_karate = [int(sum(row)) for row in karate_network]\n",
    "node_degrees_dolphin = [int(sum(row)) for row in dolphin_network]\n",
    "node_degrees_jazz = [int(sum(row)) for row in jazz_network]\n",
    "\n",
    "# CREATE DEGREE MATRIX OF GRAPHS\n",
    "d_mat_karate = np.diag(np.array(node_degrees_karate))\n",
    "d_mat_dolphin = np.diag(np.array(node_degrees_dolphin))\n",
    "d_mat_jazz = np.diag(np.array(node_degrees_jazz))\n",
    "\n",
    "# D - A\n",
    "d_a_karate = d_mat_karate - karate_network\n",
    "d_a_dolphin = d_mat_dolphin - dolphin_network\n",
    "d_a_jazz = d_mat_jazz - jazz_network\n",
    "\n",
    "\n",
    "# CALCULATE EIGEN VECTORS\n",
    "from numpy import linalg as LA\n",
    "\n",
    "ev_karate = LA.eig(d_a_karate)\n",
    "ev_dolphin = LA.eig(d_a_dolphin)\n",
    "ev_jazz = LA.eig(d_a_jazz)\n",
    "\n",
    "print(len(ev_karate))\n",
    "print(len(ev_dolphin))\n",
    "print(len(ev_jazz))"
   ]
  },
  {
   "cell_type": "code",
   "execution_count": null,
   "id": "f53c3f6c",
   "metadata": {},
   "outputs": [],
   "source": [
    "# COMPUTING EIGEN VECTORS USING THE GRAPH LAPLACIAN\n",
    "\n",
    "ev_karate = nx.laplacian_spectrum(karate_net)\n",
    "ev_dolphin = nx.laplacian_spectrum(dolphin_net)\n",
    "ev_jazz = nx.laplacian_spectrum(jazz_net)\n",
    "\n"
   ]
  }
 ],
 "metadata": {
  "kernelspec": {
   "display_name": "Python 3 (ipykernel)",
   "language": "python",
   "name": "python3"
  },
  "language_info": {
   "codemirror_mode": {
    "name": "ipython",
    "version": 3
   },
   "file_extension": ".py",
   "mimetype": "text/x-python",
   "name": "python",
   "nbconvert_exporter": "python",
   "pygments_lexer": "ipython3",
   "version": "3.8.2"
  }
 },
 "nbformat": 4,
 "nbformat_minor": 5
}
